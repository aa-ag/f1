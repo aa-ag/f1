{
 "cells": [
  {
   "cell_type": "code",
   "execution_count": 1,
   "id": "3e16cda3",
   "metadata": {},
   "outputs": [],
   "source": [
    "import requests\n",
    "import pandas as pd"
   ]
  },
  {
   "cell_type": "code",
   "execution_count": 5,
   "id": "6c35543d",
   "metadata": {},
   "outputs": [
    {
     "name": "stdout",
     "output_type": "stream",
     "text": [
      "{'Date': 'Tue, 27 Jul 2021 03:44:16 GMT', 'Content-Type': 'text/html; charset=utf-8', 'Cache-Control': 'no-cache, no-store', 'Pragma': 'no-cache', 'Content-Encoding': 'gzip', 'Set-Cookie': 'CSRF-TOKEN=CfDJ8LdUzqlsSWBPr4Ce3rb9VL95lvnUrX_tZofRpominHJiYH7smf7_vPAlxdfhK6ekPIGWPa-b1rDMHdYAq8sFT8djPhkDOLL9bT13JSdebHmKj99mCeiPJeVtzOCvpOD6tyhXBLju4YsyGiLuWx4ddW0; path=/; secure; samesite=lax; httponly, XSRF-TOKEN=CfDJ8LdUzqlsSWBPr4Ce3rb9VL_Y4XA2X_WydB7PjCrcWYEkGkx4JNBhglVouVzPnpxMGUh74qdcU7CXB-O4IVScr5MWsngLP3p5iOyxCWhvLjTblE_3koepmWhM-ORm7APC2-UuXXDiwOypN6GXW0OVsD4; path=/; secure; samesite=lax, CLIENT-TOKEN=eyJhbGciOiJub25lIiwidHlwIjoiSldUIn0.eyJpc3MiOiJrYWdnbGUiLCJhdWQiOiJjbGllbnQiLCJzdWIiOm51bGwsIm5idCI6IjIwMjEtMDctMjdUMDM6NDQ6MTcuNDk1MjEyWiIsImlhdCI6IjIwMjEtMDctMjdUMDM6NDQ6MTcuNDk1MjEyWiIsImp0aSI6ImI4YzgxNGEzLWVlOTUtNGY0Yy04ZGRhLTJkMGM4ZjVmNzVjMSIsImV4cCI6IjIwMjEtMDgtMjdUMDM6NDQ6MTcuNDk1MjEyWiIsImFub24iOnRydWUsImZmIjpbIkRvY2tlck1vZGFsU2VsZWN0b3IiLCJBY3RpdmVFdmVudHMiLCJHY2xvdWRLZXJuZWxJbnRlZyIsIktlcm5lbEVkaXRvckNvcmdpTW9kZSIsIkNhaXBFeHBvcnQiLCJDYWlwTnVkZ2UiLCJLZXJuZWxzRmlyZWJhc2VMb25nUG9sbGluZyIsIktlcm5lbHNQcmV2ZW50U3RvcHBlZFRvU3RhcnRpbmdUcmFuc2l0aW9uIiwiS2VybmVsc1BvbGxRdW90YSIsIktlcm5lbHNRdW90YU1vZGFscyIsIkRhdGFzZXRzRGF0YUV4cGxvcmVyVjNUcmVlTGVmdCIsIkF2YXRhclByb2ZpbGVQcmV2aWV3IiwiRGF0YXNldHNEYXRhRXhwbG9yZXJWM0NoZWNrRm9yVXBkYXRlcyIsIkRhdGFzZXRzRGF0YUV4cGxvcmVyVjNDaGVja0ZvclVwZGF0ZXNJbkJhY2tncm91bmQiLCJLZXJuZWxzU3RhY2tPdmVyZmxvd1NlYXJjaCIsIktlcm5lbHNNYXRlcmlhbExpc3RpbmciLCJEYXRhc2V0c01hdGVyaWFsRGV0YWlsIiwiRGF0YXNldHNNYXRlcmlhbExpc3RDb21wb25lbnQiLCJDb21wZXRpdGlvbkRhdGFzZXRzIiwiRGlzY3Vzc2lvbnNVcHZvdGVTcGFtV2FybmluZyIsIlRhZ3NMZWFybkFuZERpc2N1c3Npb25zVUkiLCJOb1JlbG9hZEV4cGVyaW1lbnQiLCJOb3RlYm9va3NMYW5kaW5nUGFnZSIsIkRhdGFzZXRzRnJvbUdjcyIsIlRQVUNvbW1pdFNjaGVkdWxpbmciLCJDb21taXRTY2hlZHVsaW5nIiwiRW1wbG95ZXJJbmZvTnVkZ2VzIiwiRW1haWxTaWdudXBOdWRnZXMiLCJLZXJuZWxzTGVzc1JhcGlkQXV0b1NhdmUiLCJCb29rbWFya3NVSSIsIkJvb2ttYXJrc0NvbXBzVUkiLCJGcm9udGVuZENvbnNvbGVFcnJvclJlcG9ydGluZyIsIktlcm5lbFZpZXdlckhpZGVGYWtlRXhpdExvZ1RpbWUiLCJEYXRhc2V0TGFuZGluZ1BhZ2VSb3RhdGluZ1NoZWx2ZXMiLCJMb3dlckRhdGFzZXRIZWFkZXJJbWFnZU1pblJlcyIsIk5ld0Rpc2N1c3Npb25zTGFuZGluZyIsIkRpc2N1c3Npb25MaXN0aW5nSW1wcm92ZW1lbnRzIiwiUmVnaXN0cmF0aW9uTmV3c0VtYWlsU2lnbnVwSXNPcHRPdXQiXSwiZmZkIjp7IkZyb250ZW5kRXJyb3JSZXBvcnRpbmdTYW1wbGVSYXRlIjoiMC4xIn0sInBpZCI6ImthZ2dsZS0xNjE2MDciLCJzdmMiOiJ3ZWItZmUiLCJzZGFrIjoiQUl6YVN5QTRlTnFVZFJSc2tKc0NaV1Z6LXFMNjU1WGE1SkVNcmVFIiwiYmxkIjoiOTNmOWU0YzgyMzRhYjM4NjIyMGM2YTg3MmEyNDRmMmYwNTIwNDk2OSJ9.; path=/; secure; samesite=lax', 'Vary': 'Accept-Encoding', 'Turbolinks-Location': 'https://www.kaggle.com/account/login?titleType=dataset-downloads&showDatasetDownloadSkip=False&messageId=datasetsWelcome&returnUrl=%2Frohanrao%2Fformula-1-world-championship-1950-2020%3Fresource%3Ddownload', 'X-Frame-Options': 'SAMEORIGIN', 'Strict-Transport-Security': 'max-age=63072000; includeSubDomains; preload', 'Content-Security-Policy': \"object-src 'none'; script-src 'nonce-QKTTi+xYw7oXeOcLT9WfXw==' 'report-sample' 'unsafe-inline' 'unsafe-eval' 'strict-dynamic' https: http:; frame-src 'self' https://www.kaggleusercontent.com https://www.youtube.com/embed/ https://polygraph-cool.github.io https://www.google.com/recaptcha/ https://form.jotform.com https://submit.jotform.us https://submit.jotformpro.com https://submit.jotform.com https://www.docdroid.com https://www.docdroid.net https://kaggle-static.storage.googleapis.com https://kaggle-static-staging.storage.googleapis.com https://kkb-dev.jupyter-proxy.kaggle.net https://kkb-staging.jupyter-proxy.kaggle.net https://kkb-production.jupyter-proxy.kaggle.net https://kkb-production.firebaseapp.com https://apis.google.com https://content-sheets.googleapis.com/ https://accounts.google.com/ https://storage.googleapis.com https://docs.google.com; base-uri 'none'; report-uri https://csp.withgoogle.com/csp/kaggle/20201130;\", 'X-Content-Type-Options': 'nosniff', 'Referrer-Policy': 'strict-origin-when-cross-origin', 'Via': '1.1 google', 'Alt-Svc': 'clear', 'Transfer-Encoding': 'chunked'}\n"
     ]
    }
   ],
   "source": [
    "### get data\n",
    "\n",
    "url = 'https://www.kaggle.com/rohanrao/formula-1-world-championship-1950-2020/download'\n",
    "\n",
    "r = requests.get(url)\n",
    "\n",
    "print(r)"
   ]
  },
  {
   "cell_type": "code",
   "execution_count": null,
   "id": "d8eeb21b",
   "metadata": {},
   "outputs": [],
   "source": []
  }
 ],
 "metadata": {
  "kernelspec": {
   "display_name": "Python 3",
   "language": "python",
   "name": "python3"
  },
  "language_info": {
   "codemirror_mode": {
    "name": "ipython",
    "version": 3
   },
   "file_extension": ".py",
   "mimetype": "text/x-python",
   "name": "python",
   "nbconvert_exporter": "python",
   "pygments_lexer": "ipython3",
   "version": "3.9.5"
  }
 },
 "nbformat": 4,
 "nbformat_minor": 5
}
